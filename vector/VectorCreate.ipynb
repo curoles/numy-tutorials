{
 "cells": [
  {
   "cell_type": "markdown",
   "metadata": {},
   "source": [
    "Vector creation\n",
    "===============\n"
   ]
  },
  {
   "cell_type": "code",
   "execution_count": 1,
   "metadata": {},
   "outputs": [
    {
     "name": "stdout",
     "output_type": "stream",
     "text": [
      "Resolving Hex dependencies...\n",
      "Dependency resolution completed:\n",
      "Unchanged:\n",
      "  flow 0.15.0\n",
      "  gen_stage 0.14.3\n",
      "  numy 0.1.2\n",
      "All dependencies are up to date\n",
      "make: Nothing to be done for 'all'.\n"
     ]
    },
    {
     "data": {
      "text/plain": [
       ":ok"
      ]
     },
     "execution_count": 1,
     "metadata": {},
     "output_type": "execute_result"
    }
   ],
   "source": [
    "Boyle.activate(\"project-numy\")"
   ]
  },
  {
   "cell_type": "markdown",
   "metadata": {},
   "source": [
    "## Mutable vectors\n",
    "\n",
    "Numy somewhat breaks Elixir's immutable model with mutable objects;\n",
    "it is done to avoid copying and thus to increase performance.\n",
    "To access a vector as immutable object use protocol called `Numy.Vc`.\n",
    "To access a vector as mutable object use protocol called `Numy.Vcm`.\n",
    "\n",
    "There are two implementation of vector:\n",
    " - `Numy.Lapack.Vector` - functions implemented as NIF C code;\n",
    "   it implements both `Vc` and `Vcm` protocols.\n",
    " - `Numy.Vector` - pure Elixir, used for testing and performance\n",
    "   measurements.\n",
    "\n",
    "C `double` type is used by NIF to store vector values."
   ]
  },
  {
   "cell_type": "markdown",
   "metadata": {},
   "source": [
    "## Creating uninitialized vector\n",
    "\n",
    "Module's function `new(n)` creates a new vector with uninitialized elements."
   ]
  },
  {
   "cell_type": "code",
   "execution_count": 2,
   "metadata": {},
   "outputs": [
    {
     "data": {
      "text/plain": [
       "[6.9108401767606e-310, 6.9108401769448e-310, 0.0, 6.9108401768009e-310, 3.0047460400073e-311]"
      ]
     },
     "execution_count": 2,
     "metadata": {},
     "output_type": "execute_result"
    }
   ],
   "source": [
    "alias Numy.Vc\n",
    "alias Numy.Vcm\n",
    "alias Numy.Lapack, as: La\n",
    "\n",
    "v = La.Vector.new(5) # new vector with 5 elements\n",
    "Vc.data(v) # vector is not initialized, so it is having some random junk"
   ]
  },
  {
   "cell_type": "markdown",
   "metadata": {},
   "source": [
    "An uninitialized vector can be later filled out with any values. We can fill it with 0.0."
   ]
  },
  {
   "cell_type": "code",
   "execution_count": 3,
   "metadata": {},
   "outputs": [
    {
     "data": {
      "text/plain": [
       "[0.0, 0.0, 0.0, 0.0, 0.0]"
      ]
     },
     "execution_count": 3,
     "metadata": {},
     "output_type": "execute_result"
    }
   ],
   "source": [
    "Vc.assign_zeros(v)\n",
    "Vc.data(v)"
   ]
  },
  {
   "cell_type": "markdown",
   "metadata": {},
   "source": [
    "We can assign 1.0 to all elements."
   ]
  },
  {
   "cell_type": "code",
   "execution_count": 5,
   "metadata": {},
   "outputs": [
    {
     "data": {
      "text/plain": [
       "[1.0, 1.0, 1.0, 1.0, 1.0]"
      ]
     },
     "execution_count": 5,
     "metadata": {},
     "output_type": "execute_result"
    }
   ],
   "source": [
    "Vc.assign_ones(v)\n",
    "Vc.data(v)"
   ]
  },
  {
   "cell_type": "code",
   "execution_count": null,
   "metadata": {},
   "outputs": [],
   "source": []
  }
 ],
 "metadata": {
  "kernelspec": {
   "display_name": "Elixir",
   "language": "Elixir",
   "name": "ielixir"
  },
  "language_info": {
   "codemirror_mode": "elixir",
   "file_extension": "ex",
   "mimetype": "text/x-elixir",
   "name": "elixir",
   "nbconvert_exporter": "",
   "pygments_lexer": "elixir",
   "version": "1.9.4"
  }
 },
 "nbformat": 4,
 "nbformat_minor": 4
}
