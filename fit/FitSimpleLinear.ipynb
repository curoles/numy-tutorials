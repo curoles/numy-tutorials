{
 "cells": [
  {
   "cell_type": "markdown",
   "metadata": {},
   "source": [
    "# Simple Linear Regression"
   ]
  },
  {
   "cell_type": "code",
   "execution_count": 1,
   "metadata": {},
   "outputs": [
    {
     "name": "stdout",
     "output_type": "stream",
     "text": [
      "Resolving Hex dependencies...\n",
      "Dependency resolution completed:\n",
      "Unchanged:\n",
      "  gnuplot 1.19.96\n",
      "  numy 0.1.5\n",
      "All dependencies are up to date\n",
      "make: Nothing to be done for 'all'.\n"
     ]
    },
    {
     "data": {
      "text/plain": [
       ":ok"
      ]
     },
     "execution_count": 1,
     "metadata": {},
     "output_type": "execute_result"
    }
   ],
   "source": [
    "Boyle.activate(\"project-numy\")"
   ]
  },
  {
   "cell_type": "markdown",
   "metadata": {},
   "source": [
    "## Linear Regression\n",
    "\n",
    "Say we have a set of points with coordinates {x,y}.\n",
    "In case these point correspond to some linear process,\n",
    "it should be possible to figure our the slope and interception\n",
    "of the linear model from the data points.\n",
    "\n",
    "> In linear regression, the relationships are modeled using\n",
    "> linear predictor functions whose unknown model parameters\n",
    "> are estimated from the data.\n",
    "\n",
    "  We want to find a linear model α + βx, that for each x gives a value\n",
    "  that is close to y from the data set.\n",
    "  One approach to estimating the unknowns α and β is\n",
    "  to consider the sum of squared residuals function, or SSR.\n",
    "\n",
    "  >\n",
    "  > ∑rᵢ² = ∑(yᵢ - α - βxᵢ)²\n",
    "  >\n",
    "\n",
    "  It is a fact that among all possible α and β, the following\n",
    "  values minimize the SSR:\n",
    "\n",
    "  > 1. β = cov(x,y) / var(x)\n",
    "  > 2. α = ȳ - βx̄\n",
    "  >\n",
    "  \n",
    "  That is, from practical point of view, all we need is to calculate\n",
    "  covariance and variance."
   ]
  },
  {
   "cell_type": "markdown",
   "metadata": {},
   "source": [
    "## Numy.Fit.SimpleLinear\n",
    "\n",
    "Basic vector operations like `mean`, `offset`, `pow2` and `sum` provide\n",
    "enough functions to implement simple and stable two-pass algorithms to\n",
    "calculate *variance* and *covariance*. With these two values we get a slope\n",
    "of fitting line; then, geting interception is trivial. "
   ]
  },
  {
   "cell_type": "markdown",
   "metadata": {},
   "source": [
    "Elixir module `Numy.Fit.SimpleLinear` does just that. It uses `Vc` and `Vcm` protocols to call vector functions to calculate the slope and interception of a line that fits input data. Let us see how it works."
   ]
  },
  {
   "cell_type": "markdown",
   "metadata": {},
   "source": [
    "We start with constructing an input dataset. First, we create points\n",
    "on a line with slope 2 and intercept -3.\n",
    "Then we randomly move the points in order to introduce some noise to the data."
   ]
  },
  {
   "cell_type": "code",
   "execution_count": 2,
   "metadata": {},
   "outputs": [
    {
     "data": {
      "text/plain": [
       "Numy.Lapack.Vector"
      ]
     },
     "execution_count": 2,
     "metadata": {},
     "output_type": "execute_result"
    }
   ],
   "source": [
    "alias Numy.{Vc,Vcm}\n",
    "alias Numy.Lapack.Vector, as: Lv"
   ]
  },
  {
   "cell_type": "code",
   "execution_count": 3,
   "metadata": {},
   "outputs": [
    {
     "data": {
      "text/plain": [
       "#Vector<size=10, [0.0, 1.0, 2.0, 3.0, 4.0, 5.0, 6.0, 7.0, 8.0, 9.0]>"
      ]
     },
     "execution_count": 3,
     "metadata": {},
     "output_type": "execute_result"
    }
   ],
   "source": [
    "xs = Lv.new(0..9) # x points, from 0 to 9"
   ]
  },
  {
   "cell_type": "code",
   "execution_count": 10,
   "metadata": {},
   "outputs": [
    {
     "data": {
      "text/plain": [
       "#Vector<size=10, [-3.0, -1.0, 1.0, 3.0, 5.0, 7.0, 9.0, 11.0, 13.0, 15.0]>"
      ]
     },
     "execution_count": 10,
     "metadata": {},
     "output_type": "execute_result"
    }
   ],
   "source": [
    "# y points: take x points, scale them by 2 and then move down by 3\n",
    "ys_ideal = xs |> Vc.scale(2) |> Vcm.offset!(-3)"
   ]
  },
  {
   "cell_type": "markdown",
   "metadata": {},
   "source": [
    "Next, we generate a vector of small random numbers."
   ]
  },
  {
   "cell_type": "code",
   "execution_count": 23,
   "metadata": {},
   "outputs": [
    {
     "data": {
      "text/plain": [
       "#Vector<size=10, [0.664255510615694, 0.5882049267307631, 0.9445944249221905, 0.8354412971219026, 0.4244430558496487, 0.45008170049853946, 0.6387496810528502, 0.9956223851992372, 0.9712671713885004, 0.402398374019303]>"
      ]
     },
     "execution_count": 23,
     "metadata": {},
     "output_type": "execute_result"
    }
   ],
   "source": [
    "err = Lv.new(10) |> Vc.assign_random"
   ]
  },
  {
   "cell_type": "markdown",
   "metadata": {},
   "source": [
    "The random numbers are in the range `[0..1]`. Let us shift them all down by 0.5\n",
    "to make new range `[-0.5..0.5]`."
   ]
  },
  {
   "cell_type": "code",
   "execution_count": 24,
   "metadata": {},
   "outputs": [
    {
     "data": {
      "text/plain": [
       "#Vector<size=10, [0.164255510615694, 0.08820492673076308, 0.4445944249221905, 0.3354412971219026, -0.0755569441503513, -0.04991829950146054, 0.13874968105285024, 0.4956223851992372, 0.4712671713885004, -0.097601625980697]>"
      ]
     },
     "execution_count": 24,
     "metadata": {},
     "output_type": "execute_result"
    }
   ],
   "source": [
    "err |> Vcm.offset!(-0.5)"
   ]
  },
  {
   "cell_type": "markdown",
   "metadata": {},
   "source": [
    "Now we can add vector of errors to the ys vector and get the dataset that we are going to use to demonstrate how `Fit.SimpleLinear` works."
   ]
  },
  {
   "cell_type": "code",
   "execution_count": 25,
   "metadata": {},
   "outputs": [
    {
     "data": {
      "text/plain": [
       "#Vector<size=10, [-2.835744489384306, -0.9117950732692369, 1.4445944249221905, 3.3354412971219025, 4.924443055849649, 6.950081700498539, 9.13874968105285, 11.495622385199237, 13.4712671713885, 14.902398374019302]>"
      ]
     },
     "execution_count": 25,
     "metadata": {},
     "output_type": "execute_result"
    }
   ],
   "source": [
    "ys = Vc.add(ys_ideal,err)"
   ]
  },
  {
   "cell_type": "markdown",
   "metadata": {},
   "source": [
    "The input dataset is ready and is made of 2 vectors: xs and ys.\n",
    "We are going to call function `Fit.SimpleLinear.fit` that returns\n",
    "a tuple with an interception and slope."
   ]
  },
  {
   "cell_type": "code",
   "execution_count": 26,
   "metadata": {},
   "outputs": [
    {
     "data": {
      "text/plain": [
       "{-2.8089148312891448, 2.0000934853397796}"
      ]
     },
     "execution_count": 26,
     "metadata": {},
     "output_type": "execute_result"
    }
   ],
   "source": [
    "line = Numy.Fit.SimpleLinear.fit(xs, ys)"
   ]
  },
  {
   "cell_type": "markdown",
   "metadata": {},
   "source": [
    "As you can see, we get the fitting line that has the intercept close to -3\n",
    "and the slope close to 2, as expected. Thus, we have demonstrated that\n",
    "the algorithm works.\n",
    "\n",
    "Now we can check what this model predicts for each point x."
   ]
  },
  {
   "cell_type": "code",
   "execution_count": 29,
   "metadata": {},
   "outputs": [
    {
     "data": {
      "text/plain": [
       "[-2.8089148312891448, -0.8088213459493652, 1.1912721393904144, 3.191365624730194, 5.191459110069974, 7.191552595409752, 9.191646080749532, 11.191739566089314, 13.191833051429093, 15.191926536768872]"
      ]
     },
     "execution_count": 29,
     "metadata": {},
     "output_type": "execute_result"
    }
   ],
   "source": [
    "predicted = for x <- Vc.data(xs), do: Numy.Fit.SimpleLinear.predict(x, line)"
   ]
  },
  {
   "cell_type": "markdown",
   "metadata": {},
   "source": [
    "Next, we can plot 3 datasets:\n",
    "\n",
    "1. Original ideal line\n",
    "2. Data points that we get from the ideal line by adding some random values.\n",
    "3. Predicted values."
   ]
  },
  {
   "cell_type": "code",
   "execution_count": 36,
   "metadata": {},
   "outputs": [
    {
     "data": {
      "image/png": "[encoded data removed]"
     },
     "metadata": {},
     "output_type": "display_data"
    }
   ],
   "source": [
    "datasets = for ds <- [Vc.data(ys_ideal),Vc.data(ys),predicted], do:\n",
    "  Enum.zip(Vc.data(xs), ds)\n",
    "\n",
    "Gnuplot.plot([\n",
    "  ~w(set terminal pngcairo size 600,600)a,\n",
    "  ~w(set output)a,\n",
    "  ~w(set key left top)a,\n",
    "  ~w(set grid xtics ytics)a,\n",
    "  ~w(set style line 1 lw 2 lc 'blue')a,\n",
    "  ~w(set style line 2 lw 2 lc 'green')a,\n",
    "  ~w(set style line 3 lw 2 lc 'red')a,\n",
    "  Gnuplot.plots([\n",
    "    [\"-\", :title, \"Ideal Data\", :with, :linespoints, :ls, 1],\n",
    "    [\"-\", :title, \"Data Points\", :with, :points, :ls, 2],\n",
    "    [\"-\", :title, \"Prediction\", :with, :points, :ls, 3]\n",
    "  ])\n",
    "  ],\n",
    "  datasets\n",
    ")\n",
    "\n",
    "Numy.Gnuplot.capture() |> Base.encode64 |> IO.write\n",
    ":\"this is an inline image\""
   ]
  },
  {
   "cell_type": "markdown",
   "metadata": {},
   "source": [
    "## Pearson correlation coefficient\n",
    "\n",
    "  Pearson's correlation coefficient is the covariance of the two variables\n",
    "  divided by the product of their standard deviations.\n",
    "\n",
    "  A value of 1 implies that a linear equation describes the relationship\n",
    "  between X and Y perfectly, with all data points lying on a line\n",
    "  for which Y increases as X increases.\n",
    "  A value of 0 implies that there is no linear correlation between the variables."
   ]
  },
  {
   "cell_type": "code",
   "execution_count": 35,
   "metadata": {},
   "outputs": [
    {
     "data": {
      "text/plain": [
       "0.9992691855457837"
      ]
     },
     "execution_count": 35,
     "metadata": {},
     "output_type": "execute_result"
    }
   ],
   "source": [
    "Numy.Fit.SimpleLinear.pearson_correlation(ys, Lv.new(predicted))"
   ]
  },
  {
   "cell_type": "code",
   "execution_count": null,
   "metadata": {},
   "outputs": [],
   "source": []
  }
 ],
 "metadata": {
  "kernelspec": {
   "display_name": "Elixir",
   "language": "Elixir",
   "name": "ielixir"
  },
  "language_info": {
   "codemirror_mode": "elixir",
   "file_extension": "ex",
   "mimetype": "text/x-elixir",
   "name": "elixir",
   "nbconvert_exporter": "",
   "pygments_lexer": "elixir",
   "version": "1.9.4"
  }
 },
 "nbformat": 4,
 "nbformat_minor": 4
}
